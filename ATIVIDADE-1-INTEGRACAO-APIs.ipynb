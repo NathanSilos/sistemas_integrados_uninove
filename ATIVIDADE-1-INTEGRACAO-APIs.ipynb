{
  "cells": [
    {
      "cell_type": "markdown",
      "metadata": {
        "id": "tXeRS3WjtfJQ"
      },
      "source": [
        "# ATIVIDADE DE INTEGRAÇÃO (EM GRUPO ou INDIVIDUAL)\n",
        "\n",
        "* Entrega\n",
        "  * 08/Maio/2023\n",
        "  * Via Google Classroom\n",
        "  * **A entrega deverá ser realizada de forma individual, incluindo o nome dos integrantes, caso seja realizado com mais de um aluno/aluna)**\n",
        "  * Incluir apenas o link que permita o acesso às funcionalidades\n",
        "\n",
        "* Valor\n",
        "  * 10,00 pontos\n",
        "\n",
        "* Correção\n",
        "  * A pontuação será atribuída de acordo com o correto funcionamento de cada um dos recursos"
      ]
    },
    {
      "cell_type": "markdown",
      "metadata": {
        "id": "78MaFrm9wD6L"
      },
      "source": [
        "## Orientações\n",
        "\n",
        "Nas células abaixo estão todas as funcionalidades oferecidas pela API To-Do-List.\n",
        "\n",
        "1. Você deverá, no primeiro momento, verificar se todas as respostas da API para o recurso de \"tasks\" estão funcionando de acordo com o proposto na documentação (https://github.com/EdsonMSouza/php-api-to-do-list).\n",
        "\n",
        "2. Você deverá criar uma **interface web** (fomrulários) que permita interagir com a API e suas funcionalidades, ou seja, utilizar a API dentro de um site. Se preferir, poderá criar uma aplicação com React Native ou Flutter (online).\n",
        "\n",
        "**Dica**: Use o Repl.it com HTML e Flask para criar os formulários e consumir os recursos."
      ]
    },
    {
      "cell_type": "code",
      "execution_count": 1,
      "metadata": {
        "id": "QAcOSuGytbLg"
      },
      "outputs": [],
      "source": [
        "# Bibliotecas para manipular requisições e repostas\n",
        "import requests as rs # requisições http\n",
        "import json # formatação e manipulação do JSON\n",
        "import base64 # conversão base64\n",
        "import io # manipulação de entrada e saída\n",
        "from matplotlib import pyplot as plt # biblioteca gráfica\n",
        "import matplotlib.image as mpimg # biblioteca gráfica"
      ]
    },
    {
      "cell_type": "markdown",
      "metadata": {
        "id": "ImpYopu-vrzX"
      },
      "source": [
        "# Usuário (*user*)"
      ]
    },
    {
      "cell_type": "code",
      "execution_count": 2,
      "metadata": {
        "id": "aCl_ywRVrngR"
      },
      "outputs": [
        {
          "name": "stdout",
          "output_type": "stream",
          "text": [
            "{'message': 'User Already Exists'} \n",
            "\n",
            "message: User Already Exists\n"
          ]
        }
      ],
      "source": [
        "# New\n",
        "resource = 'user'\n",
        "service = 'new'\n",
        "url = f\"https://todolist-api.edsonmelo.com.br/api/{resource}/{service}/\"\n",
        "\n",
        "payload = {\n",
        "  \"name\": \"giba2\",\n",
        "  \"email\": \"teste@uni9.com.br\",\n",
        "  \"username\": \"giba2\",\n",
        "  \"password\": \"giba123\"\n",
        "}\n",
        "\n",
        "headers = {'Content-type': 'application/json'}\n",
        "\n",
        "dados = rs.post(url, data=json.dumps(payload), headers=headers)\n",
        "dicionario = json.loads(dados.text)\n",
        "\n",
        "print(dicionario, '\\n')\n",
        "for i in dicionario:\n",
        "  print(f'{i}: {dicionario.get(i)}')"
      ]
    },
    {
      "cell_type": "code",
      "execution_count": 3,
      "metadata": {},
      "outputs": [
        {
          "data": {
            "text/plain": [
              "dict_items([('message', 'User Already Exists')])"
            ]
          },
          "execution_count": 3,
          "metadata": {},
          "output_type": "execute_result"
        }
      ],
      "source": [
        "dicionario.items() "
      ]
    },
    {
      "cell_type": "code",
      "execution_count": 4,
      "metadata": {},
      "outputs": [
        {
          "data": {
            "text/plain": [
              "dict_items([('message', 'User Already Exists')])"
            ]
          },
          "execution_count": 4,
          "metadata": {},
          "output_type": "execute_result"
        }
      ],
      "source": [
        "dicionario.items()"
      ]
    },
    {
      "cell_type": "code",
      "execution_count": 5,
      "metadata": {},
      "outputs": [
        {
          "data": {
            "text/plain": [
              "False"
            ]
          },
          "execution_count": 5,
          "metadata": {},
          "output_type": "execute_result"
        }
      ],
      "source": [
        "'User Successfully Added' in str(dicionario.items())"
      ]
    },
    {
      "cell_type": "code",
      "execution_count": 6,
      "metadata": {
        "id": "JlqGIYe3tbLo"
      },
      "outputs": [
        {
          "name": "stdout",
          "output_type": "stream",
          "text": [
            "{'id': 78, 'name': 'giba', 'email': 'teste@uni9.com.br', 'token': 'F199F27C3C3BDCEEAA81', 'picture': None} \n",
            "\n",
            "id: 78\n",
            "name: giba\n",
            "email: teste@uni9.com.br\n",
            "token: F199F27C3C3BDCEEAA81\n",
            "picture: None\n"
          ]
        }
      ],
      "source": [
        "# Login\n",
        "resource = 'user'\n",
        "service = 'login'\n",
        "url = f\"https://todolist-api.edsonmelo.com.br/api/{resource}/{service}/\"\n",
        "\n",
        "payload = {\n",
        "  \"username\": \"giba\",\n",
        "  \"password\": \"giba123\"\n",
        "}\n",
        "\n",
        "headers = {'Content-type': 'application/json'}\n",
        "\n",
        "dados = rs.post(url, data=json.dumps(payload), headers=headers)\n",
        "\n",
        "dicionario = json.loads(dados.text)\n",
        "\n",
        "print(dicionario, '\\n')\n",
        "for i in dicionario:\n",
        "  print(f'{i}: {dicionario.get(i)}')"
      ]
    },
    {
      "cell_type": "code",
      "execution_count": 7,
      "metadata": {},
      "outputs": [
        {
          "data": {
            "text/plain": [
              "'F199F27C3C3BDCEEAA81'"
            ]
          },
          "execution_count": 7,
          "metadata": {},
          "output_type": "execute_result"
        }
      ],
      "source": [
        "dicionario['token']"
      ]
    },
    {
      "cell_type": "code",
      "execution_count": 8,
      "metadata": {},
      "outputs": [
        {
          "data": {
            "text/plain": [
              "dict_keys(['id', 'name', 'email', 'token', 'picture'])"
            ]
          },
          "execution_count": 8,
          "metadata": {},
          "output_type": "execute_result"
        }
      ],
      "source": [
        "dicionario.keys()"
      ]
    },
    {
      "cell_type": "code",
      "execution_count": 9,
      "metadata": {},
      "outputs": [
        {
          "data": {
            "text/plain": [
              "dict_keys(['id', 'name', 'email', 'token', 'picture'])"
            ]
          },
          "execution_count": 9,
          "metadata": {},
          "output_type": "execute_result"
        }
      ],
      "source": [
        "dicionario.keys()"
      ]
    },
    {
      "cell_type": "code",
      "execution_count": 10,
      "metadata": {},
      "outputs": [
        {
          "name": "stdout",
          "output_type": "stream",
          "text": [
            "dict_keys(['id', 'name', 'email', 'token', 'picture'])\n"
          ]
        }
      ],
      "source": [
        "print(dicionario.keys())"
      ]
    },
    {
      "cell_type": "code",
      "execution_count": 11,
      "metadata": {},
      "outputs": [
        {
          "name": "stdout",
          "output_type": "stream",
          "text": [
            "200\n"
          ]
        }
      ],
      "source": [
        "print(dados.status_code)"
      ]
    },
    {
      "cell_type": "code",
      "execution_count": 12,
      "metadata": {
        "id": "_XxMdIEMtbLo"
      },
      "outputs": [
        {
          "name": "stdout",
          "output_type": "stream",
          "text": [
            "{'message': 'Token Refused'} \n",
            "\n",
            "message: Token Refused\n"
          ]
        }
      ],
      "source": [
        "# Update (exceto senha)\n",
        "resource = 'user'\n",
        "service = 'update'\n",
        "url = f\"https://todolist-api.edsonmelo.com.br/api/{resource}/{service}/\"\n",
        "\n",
        "payload = {\n",
        "  \"name\": \"\",\n",
        "  \"email\": \"\",\n",
        "  \"username\": \"\",\n",
        "  \"password\": \"\",\n",
        "  \"picture\": \"\"\n",
        "}\n",
        "\n",
        "headers = {\n",
        "    'Content-type': 'application/json', \n",
        "    \"Authorization\": \"\"\n",
        "    }\n",
        "\n",
        "dados = rs.put(url, data=json.dumps(payload), headers=headers)\n",
        "dicionario = json.loads(dados.text)\n",
        "\n",
        "print(dicionario, '\\n')\n",
        "for i in dicionario:\n",
        "  print(f'{i}: {dicionario.get(i)}')"
      ]
    },
    {
      "cell_type": "code",
      "execution_count": 13,
      "metadata": {
        "id": "PG8PS9tGtbLp"
      },
      "outputs": [
        {
          "name": "stdout",
          "output_type": "stream",
          "text": [
            "{'message': 'Token Refused'} \n",
            "\n",
            "message: Token Refused\n"
          ]
        }
      ],
      "source": [
        "# Update: user/password\n",
        "resource = 'user'\n",
        "service = 'updateuserpass'\n",
        "url = f\"https://todolist-api.edsonmelo.com.br/api/{resource}/{service}/\"\n",
        "\n",
        "payload = {\n",
        "  \"username\": \"\",\n",
        "  \"password\": \"\",\n",
        "  \"new_username\": \"\",\n",
        "  \"new_password\": \"\" \n",
        "}\n",
        "\n",
        "headers = {\n",
        "    'Content-type': 'application/json', \n",
        "    \"Authorization\": \"\"\n",
        "    }\n",
        "\n",
        "dados = rs.put(url, data=json.dumps(payload), headers=headers)\n",
        "dicionario = json.loads(dados.text)\n",
        "\n",
        "print(dicionario, '\\n')\n",
        "for i in dicionario:\n",
        "  print(f'{i}: {dicionario.get(i)}')"
      ]
    },
    {
      "cell_type": "markdown",
      "metadata": {
        "id": "jSPT77NFtbLp"
      },
      "source": [
        "# Tarefas (*task*)"
      ]
    },
    {
      "cell_type": "code",
      "execution_count": 14,
      "metadata": {
        "id": "40Iuc3y5tbLp"
      },
      "outputs": [
        {
          "name": "stdout",
          "output_type": "stream",
          "text": [
            "{'message': 'Task Successfully Added'} \n",
            "\n",
            "message: Task Successfully Added\n"
          ]
        }
      ],
      "source": [
        "# Nova tarefa\n",
        "resource = 'task'\n",
        "service = 'new'\n",
        "url = f\"https://todolist-api.edsonmelo.com.br/api/{resource}/{service}/\"\n",
        "\n",
        "payload = {\n",
        "  \"name\": \"giba\"\n",
        "}\n",
        "\n",
        "headers = {\n",
        "    'Content-type': 'application/json', \n",
        "    \"Authorization\": \"F199F27C3C3BDCEEAA81\"\n",
        "    }\n",
        "\n",
        "dados = rs.post(url, data=json.dumps(payload), headers=headers)\n",
        "dicionario = json.loads(dados.text)\n",
        "\n",
        "print(dicionario, '\\n')\n",
        "for i in dicionario:\n",
        "  print(f'{i}: {dicionario.get(i)}')"
      ]
    },
    {
      "cell_type": "code",
      "execution_count": 15,
      "metadata": {
        "id": "o6eukhiRDllz"
      },
      "outputs": [
        {
          "name": "stdout",
          "output_type": "stream",
          "text": [
            "[{'id': 67, 'userId': 78, 'name': 'giba', 'date': '2023-05-01', 'realized': 1}, {'id': 102, 'userId': 78, 'name': 'giba', 'date': '2023-05-02', 'realized': 0}, {'id': 103, 'userId': 78, 'name': 'giba', 'date': '2023-05-02', 'realized': 0}, {'id': 104, 'userId': 78, 'name': 'giba', 'date': '2023-05-02', 'realized': 0}, {'id': 105, 'userId': 78, 'name': 'giba', 'date': '2023-05-02', 'realized': 0}, {'id': 106, 'userId': 78, 'name': 'giba', 'date': '2023-05-02', 'realized': 0}, {'id': 107, 'userId': 78, 'name': 'giba', 'date': '2023-05-02', 'realized': 0}, {'id': 109, 'userId': 78, 'name': 'giba', 'date': '2023-05-02', 'realized': 0}, {'id': 163, 'userId': 78, 'name': 'giba', 'date': '2023-05-04', 'realized': 0}, {'id': 164, 'userId': 78, 'name': 'giba', 'date': '2023-05-04', 'realized': 0}, {'id': 186, 'userId': 78, 'name': 'giba', 'date': '2023-05-04', 'realized': 0}, {'id': 187, 'userId': 78, 'name': 'giba', 'date': '2023-05-04', 'realized': 0}, {'id': 189, 'userId': 78, 'name': 'giba', 'date': '2023-05-04', 'realized': 0}, {'id': 208, 'userId': 78, 'name': 'giba', 'date': '2023-05-04', 'realized': 0}] \n",
            "\n"
          ]
        }
      ],
      "source": [
        "# Listar\n",
        "resource = 'task'\n",
        "service = 'search'\n",
        "url = f\"https://todolist-api.edsonmelo.com.br/api/{resource}/{service}/\"\n",
        "\n",
        "headers = {\n",
        "    'Content-type': 'application/json', \n",
        "    \"Authorization\": \"F199F27C3C3BDCEEAA81\"\n",
        "    }\n",
        "\n",
        "dados = rs.post(url, data=json.dumps(payload), headers=headers)\n",
        "dicionario = json.loads(dados.text)\n",
        "\n",
        "print(dicionario, '\\n')"
      ]
    },
    {
      "cell_type": "code",
      "execution_count": null,
      "metadata": {},
      "outputs": [],
      "source": [
        "t = {'id': 67, 'userId': 78, 'name': 'giba', 'date': '2023-05-01', 'realized': 1}, {'id': 68, 'userId': 78, 'name': 'giba', 'date': '2023-05-01', 'realized': 1}, {'id': 69, 'userId': 78, 'name': 'giba', 'date': '2023-05-01', 'realized': 0}, {'id': 101, 'userId': 78, 'name': 'giba', 'date': '2023-05-02', 'realized': 0}, {'id': 102, 'userId': 78, 'name': 'giba', 'date': '2023-05-02', 'realized': 0}, {'id': 103, 'userId': 78, 'name': 'giba', 'date': '2023-05-02', 'realized': 0}, {'id': 104, 'userId': 78, 'name': 'giba', 'date': '2023-05-02', 'realized': 0}, {'id': 105, 'userId': 78, 'name': 'giba', 'date': '2023-05-02', 'realized': 0}, {'id': 106, 'userId': 78, 'name': 'giba', 'date': '2023-05-02', 'realized': 0}, {'id': 107, 'userId': 78, 'name': 'giba', 'date': '2023-05-02', 'realized': 0}, {'id': 109, 'userId': 78, 'name': 'giba', 'date': '2023-05-02', 'realized': 0}, {'id': 110, 'userId': 78, 'name': 'giba', 'date': '2023-05-02', 'realized': 0}, {'id': 163, 'userId': 78, 'name': 'giba', 'date': '2023-05-04', 'realized': 0}, {'id': 164, 'userId': 78, 'name': 'giba', 'date': '2023-05-04', 'realized': 0}"
      ]
    },
    {
      "cell_type": "code",
      "execution_count": null,
      "metadata": {},
      "outputs": [
        {
          "name": "stdout",
          "output_type": "stream",
          "text": [
            "Concluída\n",
            "Concluída\n",
            "Em andamento\n",
            "Em andamento\n",
            "Em andamento\n",
            "Em andamento\n",
            "Em andamento\n",
            "Em andamento\n",
            "Em andamento\n",
            "Em andamento\n",
            "Em andamento\n",
            "Em andamento\n",
            "Em andamento\n",
            "Em andamento\n"
          ]
        }
      ],
      "source": [
        "for i in t:\n",
        "     print(str(i['realized']).replace('1', 'Concluída').replace('0', 'Em andamento'))"
      ]
    },
    {
      "cell_type": "code",
      "execution_count": null,
      "metadata": {
        "id": "g9JpNotMtbLq"
      },
      "outputs": [],
      "source": [
        "# Atualizar\n",
        "resource = 'task'\n",
        "service = 'update'\n",
        "url = f\"https://todolist-api.edsonmelo.com.br/api/{resource}/{service}/\"\n",
        "\n",
        "payload = {\n",
        "  \"id\": \"42\",\n",
        "  \"name\": \"\",\n",
        "  \"realized\": \"\"\n",
        "}\n",
        "headers = {\n",
        "    'Content-type': 'application/json', \n",
        "    \"Authorization\": \"\"\n",
        "    }\n",
        "\n",
        "dados = rs.put(url, data=json.dumps(payload), headers=headers)\n",
        "dicionario = json.loads(dados.text)\n",
        "\n",
        "print(dicionario, '\\n')\n",
        "for i in dicionario:\n",
        "  print(f'{i}: {dicionario.get(i)}')"
      ]
    },
    {
      "cell_type": "code",
      "execution_count": 27,
      "metadata": {
        "id": "0RA-1XtftbLq"
      },
      "outputs": [
        {
          "name": "stdout",
          "output_type": "stream",
          "text": [
            "{'message': 'Invalid Arguments Number (Expected One)'} \n",
            "\n",
            "message: Invalid Arguments Number (Expected One)\n"
          ]
        }
      ],
      "source": [
        "# Editar\n",
        "resource = 'task'\n",
        "service = 'edit'\n",
        "url = f\"https://todolist-api.edsonmelo.com.br/api/{resource}/{service}/\"\n",
        "\n",
        "payload = {\n",
        "  \"id\": \"67\",\n",
        "  \"name\" : \"tiba\"}\n",
        "headers = {\n",
        "    'Content-type': 'application/json', \n",
        "    \"Authorization\": \"F199F27C3C3BDCEEAA81\"\n",
        "    }\n",
        "\n",
        "dados = rs.post(url, data=json.dumps(payload), headers=headers)\n",
        "dicionario = json.loads(dados.text)\n",
        "\n",
        "print(dicionario, '\\n')\n",
        "for i in dicionario:\n",
        "  print(f'{i}: {dicionario.get(i)}')"
      ]
    },
    {
      "cell_type": "code",
      "execution_count": null,
      "metadata": {
        "id": "22KpDTlqtbLq"
      },
      "outputs": [],
      "source": [
        "# Excluir\n",
        "resource = 'task'\n",
        "service = 'delete'\n",
        "url = f\"https://todolist-api.edsonmelo.com.br/api/{resource}/{service}/\"\n",
        "\n",
        "payload = {\"id\": \"\"}\n",
        "headers = {\n",
        "    'Content-type': 'application/json', \n",
        "    \"Authorization\": \"\"\n",
        "    }\n",
        "\n",
        "dados = rs.delete(url, data=json.dumps(payload), headers=headers)\n",
        "dicionario = json.loads(dados.text)\n",
        "\n",
        "print(dicionario, '\\n')\n",
        "for i in dicionario:\n",
        "  print(f'{i}: {dicionario.get(i)}')"
      ]
    }
  ],
  "metadata": {
    "colab": {
      "provenance": []
    },
    "kernelspec": {
      "display_name": "base",
      "language": "python",
      "name": "python3"
    },
    "language_info": {
      "codemirror_mode": {
        "name": "ipython",
        "version": 3
      },
      "file_extension": ".py",
      "mimetype": "text/x-python",
      "name": "python",
      "nbconvert_exporter": "python",
      "pygments_lexer": "ipython3",
      "version": "3.10.11"
    },
    "orig_nbformat": 4
  },
  "nbformat": 4,
  "nbformat_minor": 0
}
